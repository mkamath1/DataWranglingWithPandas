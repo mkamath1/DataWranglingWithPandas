{
 "cells": [
  {
   "cell_type": "markdown",
   "metadata": {},
   "source": [
    "\n",
    "\n",
    "\n",
    "## 1)\tLoad in the appropriate csv file as a pandas dataframe (batting.csv)\n"
   ]
  },
  {
   "cell_type": "code",
   "execution_count": 37,
   "metadata": {
    "collapsed": true
   },
   "outputs": [],
   "source": [
    "import pandas as pd\n",
    "import numpy as np"
   ]
  },
  {
   "cell_type": "code",
   "execution_count": 38,
   "metadata": {
    "collapsed": false
   },
   "outputs": [],
   "source": [
    "Batting_Data = pd.read_csv(\"Batting.csv\")"
   ]
  },
  {
   "cell_type": "markdown",
   "metadata": {},
   "source": [
    "## 2)\tPrint out the dimensions and info about the dataframe you just created\n"
   ]
  },
  {
   "cell_type": "code",
   "execution_count": 39,
   "metadata": {
    "collapsed": false
   },
   "outputs": [
    {
     "name": "stdout",
     "output_type": "stream",
     "text": [
      "(102816, 25)\n",
      "<class 'pandas.core.frame.DataFrame'>\n",
      "RangeIndex: 102816 entries, 0 to 102815\n",
      "Data columns (total 25 columns):\n",
      "playerID     102816 non-null object\n",
      "nameFirst    102816 non-null object\n",
      "nameLast     102816 non-null object\n",
      "birthYear    102816 non-null int64\n",
      "yearID       102816 non-null int64\n",
      "stint        102816 non-null int64\n",
      "teamID       102816 non-null object\n",
      "lgID         102079 non-null object\n",
      "G            102816 non-null int64\n",
      "AB           102816 non-null int64\n",
      "R            102816 non-null int64\n",
      "H            102816 non-null int64\n",
      "2B           102816 non-null int64\n",
      "3B           102816 non-null int64\n",
      "HR           102816 non-null int64\n",
      "RBI          102392 non-null float64\n",
      "SB           101516 non-null float64\n",
      "CS           79360 non-null float64\n",
      "BB           102816 non-null int64\n",
      "SO           94978 non-null float64\n",
      "IBB          66251 non-null float64\n",
      "HBP          100006 non-null float64\n",
      "SH           96478 non-null float64\n",
      "SF           66782 non-null float64\n",
      "GIDP         76706 non-null float64\n",
      "dtypes: float64(9), int64(11), object(5)\n",
      "memory usage: 19.6+ MB\n"
     ]
    }
   ],
   "source": [
    "print(Batting_Data.shape)\n",
    "\n",
    "Batting_Data.info()"
   ]
  },
  {
   "cell_type": "markdown",
   "metadata": {},
   "source": [
    "## For next part I am going to ask you a series of question, for some I am going to want to simply see a number.  For others I will want to see the entire dataframe.  I will make it very clear which is which.\n",
    "\n",
    "## 3)How many players have hit 40 or more HRs in one single season? ( Number only)"
   ]
  },
  {
   "cell_type": "code",
   "execution_count": 40,
   "metadata": {
    "collapsed": false
   },
   "outputs": [
    {
     "data": {
      "text/plain": [
       "142"
      ]
     },
     "execution_count": 40,
     "metadata": {},
     "output_type": "execute_result"
    }
   ],
   "source": [
    "Batting_Data = pd.read_csv(\"batting.csv\")\n",
    "Grouped_Data = Batting_Data.groupby(['playerID','yearID'],as_index=False).sum()\n",
    "Filtered_Data = Grouped_Data.loc[Grouped_Data['HR']>=40]\n",
    "len(Filtered_Data.drop_duplicates('playerID'))"
   ]
  },
  {
   "cell_type": "markdown",
   "metadata": {},
   "source": [
    "## 4)\tHow many players have hit more than 600 HRs for their career? (Dataframe)\n"
   ]
  },
  {
   "cell_type": "code",
   "execution_count": 56,
   "metadata": {
    "collapsed": false
   },
   "outputs": [
    {
     "data": {
      "text/html": [
       "<div>\n",
       "<style>\n",
       "    .dataframe thead tr:only-child th {\n",
       "        text-align: right;\n",
       "    }\n",
       "\n",
       "    .dataframe thead th {\n",
       "        text-align: left;\n",
       "    }\n",
       "\n",
       "    .dataframe tbody tr th {\n",
       "        vertical-align: top;\n",
       "    }\n",
       "</style>\n",
       "<table border=\"1\" class=\"dataframe\">\n",
       "  <thead>\n",
       "    <tr style=\"text-align: right;\">\n",
       "      <th></th>\n",
       "      <th>index</th>\n",
       "      <th>playerID</th>\n",
       "      <th>HR</th>\n",
       "      <th>nameFirst</th>\n",
       "      <th>nameLast</th>\n",
       "    </tr>\n",
       "  </thead>\n",
       "  <tbody>\n",
       "    <tr>\n",
       "      <th>0</th>\n",
       "      <td>1</td>\n",
       "      <td>aaronha01</td>\n",
       "      <td>755</td>\n",
       "      <td>Hank</td>\n",
       "      <td>Aaron</td>\n",
       "    </tr>\n",
       "    <tr>\n",
       "      <th>1</th>\n",
       "      <td>1542</td>\n",
       "      <td>bondsba01</td>\n",
       "      <td>762</td>\n",
       "      <td>Barry</td>\n",
       "      <td>Bonds</td>\n",
       "    </tr>\n",
       "    <tr>\n",
       "      <th>2</th>\n",
       "      <td>6633</td>\n",
       "      <td>griffke02</td>\n",
       "      <td>630</td>\n",
       "      <td>Ken</td>\n",
       "      <td>Griffey</td>\n",
       "    </tr>\n",
       "    <tr>\n",
       "      <th>3</th>\n",
       "      <td>10857</td>\n",
       "      <td>mayswi01</td>\n",
       "      <td>660</td>\n",
       "      <td>Willie</td>\n",
       "      <td>Mays</td>\n",
       "    </tr>\n",
       "    <tr>\n",
       "      <th>4</th>\n",
       "      <td>14528</td>\n",
       "      <td>rodrial01</td>\n",
       "      <td>696</td>\n",
       "      <td>Alex</td>\n",
       "      <td>Rodriguez</td>\n",
       "    </tr>\n",
       "    <tr>\n",
       "      <th>5</th>\n",
       "      <td>14865</td>\n",
       "      <td>ruthba01</td>\n",
       "      <td>714</td>\n",
       "      <td>Babe</td>\n",
       "      <td>Ruth</td>\n",
       "    </tr>\n",
       "    <tr>\n",
       "      <th>6</th>\n",
       "      <td>16103</td>\n",
       "      <td>sosasa01</td>\n",
       "      <td>609</td>\n",
       "      <td>Sammy</td>\n",
       "      <td>Sosa</td>\n",
       "    </tr>\n",
       "    <tr>\n",
       "      <th>7</th>\n",
       "      <td>17004</td>\n",
       "      <td>thomeji01</td>\n",
       "      <td>612</td>\n",
       "      <td>Jim</td>\n",
       "      <td>Thome</td>\n",
       "    </tr>\n",
       "  </tbody>\n",
       "</table>\n",
       "</div>"
      ],
      "text/plain": [
       "   index   playerID   HR nameFirst   nameLast\n",
       "0      1  aaronha01  755      Hank      Aaron\n",
       "1   1542  bondsba01  762     Barry      Bonds\n",
       "2   6633  griffke02  630       Ken    Griffey\n",
       "3  10857   mayswi01  660    Willie       Mays\n",
       "4  14528  rodrial01  696      Alex  Rodriguez\n",
       "5  14865   ruthba01  714      Babe       Ruth\n",
       "6  16103   sosasa01  609     Sammy       Sosa\n",
       "7  17004  thomeji01  612       Jim      Thome"
      ]
     },
     "execution_count": 56,
     "metadata": {},
     "output_type": "execute_result"
    }
   ],
   "source": [
    "Batting_Data = pd.read_csv(\"Batting.csv\")\n",
    "Grouped_Data = Batting_Data.groupby(\"playerID\",as_index=False).agg({\"HR\":\"sum\",\"nameFirst\":\"first\",\"nameLast\":\"first\"})\n",
    "Filtered_Data= Grouped_Data[Grouped_Data[\"HR\"]>600]\n",
    "Filtered_Data.reset_index()\n",
    "#Filtered_Data[[\"playerID\",\"nameFirst\",\"nameLast\",\"HR\"]]"
   ]
  },
  {
   "cell_type": "markdown",
   "metadata": {},
   "source": [
    "## 5) How many players have hit 40 2Bs, 10 3Bs, 200 Hits, and 30 HRs (inclusive) in one season? (Number Only)"
   ]
  },
  {
   "cell_type": "code",
   "execution_count": 133,
   "metadata": {
    "collapsed": false
   },
   "outputs": [
    {
     "data": {
      "text/plain": [
       "11"
      ]
     },
     "execution_count": 133,
     "metadata": {},
     "output_type": "execute_result"
    }
   ],
   "source": [
    "Batting_Data = pd.read_csv(\"Batting.csv\")\n",
    "Grouped_Data = Batting_Data.groupby([\"playerID\",\"yearID\"],as_index=False).sum()\n",
    "Filtered_Data = Grouped_Data.loc[(Grouped_Data[\"HR\"]>=30) & (Grouped_Data[\"2B\"]>=40) & (Grouped_Data[\"3B\"]>=10) & (Grouped_Data[\"H\"]>=200)]\n",
    "len(Filtered_Data.drop_duplicates(\"playerID\"))"
   ]
  },
  {
   "cell_type": "markdown",
   "metadata": {},
   "source": [
    "## 6)\tHow many players have had 100 or more SBs in a season? (Dataframe)\n"
   ]
  },
  {
   "cell_type": "code",
   "execution_count": 137,
   "metadata": {
    "collapsed": false
   },
   "outputs": [
    {
     "data": {
      "text/html": [
       "<div>\n",
       "<style>\n",
       "    .dataframe thead tr:only-child th {\n",
       "        text-align: right;\n",
       "    }\n",
       "\n",
       "    .dataframe thead th {\n",
       "        text-align: left;\n",
       "    }\n",
       "\n",
       "    .dataframe tbody tr th {\n",
       "        vertical-align: top;\n",
       "    }\n",
       "</style>\n",
       "<table border=\"1\" class=\"dataframe\">\n",
       "  <thead>\n",
       "    <tr style=\"text-align: right;\">\n",
       "      <th></th>\n",
       "      <th>index</th>\n",
       "      <th>playerID</th>\n",
       "      <th>yearID</th>\n",
       "      <th>SB</th>\n",
       "      <th>nameFirst</th>\n",
       "      <th>nameLast</th>\n",
       "    </tr>\n",
       "  </thead>\n",
       "  <tbody>\n",
       "    <tr>\n",
       "      <th>0</th>\n",
       "      <td>9713</td>\n",
       "      <td>brocklo01</td>\n",
       "      <td>1974</td>\n",
       "      <td>118.0</td>\n",
       "      <td>Lou</td>\n",
       "      <td>Brock</td>\n",
       "    </tr>\n",
       "    <tr>\n",
       "      <th>1</th>\n",
       "      <td>10331</td>\n",
       "      <td>brownpe01</td>\n",
       "      <td>1887</td>\n",
       "      <td>103.0</td>\n",
       "      <td>Pete</td>\n",
       "      <td>Browning</td>\n",
       "    </tr>\n",
       "    <tr>\n",
       "      <th>2</th>\n",
       "      <td>10364</td>\n",
       "      <td>brownto01</td>\n",
       "      <td>1891</td>\n",
       "      <td>106.0</td>\n",
       "      <td>Tom</td>\n",
       "      <td>Brown</td>\n",
       "    </tr>\n",
       "    <tr>\n",
       "      <th>3</th>\n",
       "      <td>16351</td>\n",
       "      <td>colemvi01</td>\n",
       "      <td>1985</td>\n",
       "      <td>110.0</td>\n",
       "      <td>Vince</td>\n",
       "      <td>Coleman</td>\n",
       "    </tr>\n",
       "    <tr>\n",
       "      <th>4</th>\n",
       "      <td>16703</td>\n",
       "      <td>comisch01</td>\n",
       "      <td>1887</td>\n",
       "      <td>117.0</td>\n",
       "      <td>Charlie</td>\n",
       "      <td>Comiskey</td>\n",
       "    </tr>\n",
       "    <tr>\n",
       "      <th>5</th>\n",
       "      <td>27187</td>\n",
       "      <td>fogarji01</td>\n",
       "      <td>1887</td>\n",
       "      <td>102.0</td>\n",
       "      <td>Jim</td>\n",
       "      <td>Fogarty</td>\n",
       "    </tr>\n",
       "    <tr>\n",
       "      <th>6</th>\n",
       "      <td>34649</td>\n",
       "      <td>hamilbi01</td>\n",
       "      <td>1889</td>\n",
       "      <td>111.0</td>\n",
       "      <td>Billy</td>\n",
       "      <td>Hamilton</td>\n",
       "    </tr>\n",
       "    <tr>\n",
       "      <th>7</th>\n",
       "      <td>37059</td>\n",
       "      <td>henderi01</td>\n",
       "      <td>1982</td>\n",
       "      <td>130.0</td>\n",
       "      <td>Rickey</td>\n",
       "      <td>Henderson</td>\n",
       "    </tr>\n",
       "    <tr>\n",
       "      <th>8</th>\n",
       "      <td>48268</td>\n",
       "      <td>lathaar01</td>\n",
       "      <td>1887</td>\n",
       "      <td>129.0</td>\n",
       "      <td>Arlie</td>\n",
       "      <td>Latham</td>\n",
       "    </tr>\n",
       "    <tr>\n",
       "      <th>9</th>\n",
       "      <td>62362</td>\n",
       "      <td>nicolhu01</td>\n",
       "      <td>1887</td>\n",
       "      <td>138.0</td>\n",
       "      <td>Hugh</td>\n",
       "      <td>Nicol</td>\n",
       "    </tr>\n",
       "    <tr>\n",
       "      <th>10</th>\n",
       "      <td>89859</td>\n",
       "      <td>wardjo01</td>\n",
       "      <td>1887</td>\n",
       "      <td>111.0</td>\n",
       "      <td>John</td>\n",
       "      <td>Ward</td>\n",
       "    </tr>\n",
       "    <tr>\n",
       "      <th>11</th>\n",
       "      <td>92606</td>\n",
       "      <td>willsma01</td>\n",
       "      <td>1962</td>\n",
       "      <td>104.0</td>\n",
       "      <td>Maury</td>\n",
       "      <td>Wills</td>\n",
       "    </tr>\n",
       "  </tbody>\n",
       "</table>\n",
       "</div>"
      ],
      "text/plain": [
       "    index   playerID  yearID     SB nameFirst   nameLast\n",
       "0    9713  brocklo01    1974  118.0       Lou      Brock\n",
       "1   10331  brownpe01    1887  103.0      Pete   Browning\n",
       "2   10364  brownto01    1891  106.0       Tom      Brown\n",
       "3   16351  colemvi01    1985  110.0     Vince    Coleman\n",
       "4   16703  comisch01    1887  117.0   Charlie   Comiskey\n",
       "5   27187  fogarji01    1887  102.0       Jim    Fogarty\n",
       "6   34649  hamilbi01    1889  111.0     Billy   Hamilton\n",
       "7   37059  henderi01    1982  130.0    Rickey  Henderson\n",
       "8   48268  lathaar01    1887  129.0     Arlie     Latham\n",
       "9   62362  nicolhu01    1887  138.0      Hugh      Nicol\n",
       "10  89859   wardjo01    1887  111.0      John       Ward\n",
       "11  92606  willsma01    1962  104.0     Maury      Wills"
      ]
     },
     "execution_count": 137,
     "metadata": {},
     "output_type": "execute_result"
    }
   ],
   "source": [
    "Batting_Data = pd.read_csv(\"Batting.csv\")\n",
    "grouped_Data = Batting_Data.groupby(['playerID','yearID'],as_index=False).agg({\"SB\":\"sum\",\"nameFirst\":\"first\",\"nameLast\":\"first\"})\n",
    "Filtered_Data = grouped_Data[grouped_Data['SB']>100]\n",
    "Filtered_Data.drop_duplicates('playerID').reset_index()"
   ]
  },
  {
   "cell_type": "markdown",
   "metadata": {},
   "source": [
    "## 7)\tHow many players in the 1960s have hit more than 200 HRs? (Dataframe)\n"
   ]
  },
  {
   "cell_type": "code",
   "execution_count": 140,
   "metadata": {
    "collapsed": false
   },
   "outputs": [
    {
     "data": {
      "text/html": [
       "<div>\n",
       "<style>\n",
       "    .dataframe thead tr:only-child th {\n",
       "        text-align: right;\n",
       "    }\n",
       "\n",
       "    .dataframe thead th {\n",
       "        text-align: left;\n",
       "    }\n",
       "\n",
       "    .dataframe tbody tr th {\n",
       "        vertical-align: top;\n",
       "    }\n",
       "</style>\n",
       "<table border=\"1\" class=\"dataframe\">\n",
       "  <thead>\n",
       "    <tr style=\"text-align: right;\">\n",
       "      <th></th>\n",
       "      <th>playerID</th>\n",
       "      <th>nameFirst</th>\n",
       "      <th>nameLast</th>\n",
       "      <th>HR</th>\n",
       "    </tr>\n",
       "  </thead>\n",
       "  <tbody>\n",
       "    <tr>\n",
       "      <th>0</th>\n",
       "      <td>aaronha01</td>\n",
       "      <td>Hank</td>\n",
       "      <td>Aaron</td>\n",
       "      <td>375</td>\n",
       "    </tr>\n",
       "    <tr>\n",
       "      <th>1</th>\n",
       "      <td>allisbo01</td>\n",
       "      <td>Bob</td>\n",
       "      <td>Allison</td>\n",
       "      <td>225</td>\n",
       "    </tr>\n",
       "    <tr>\n",
       "      <th>2</th>\n",
       "      <td>bankser01</td>\n",
       "      <td>Ernie</td>\n",
       "      <td>Banks</td>\n",
       "      <td>269</td>\n",
       "    </tr>\n",
       "    <tr>\n",
       "      <th>3</th>\n",
       "      <td>cashno01</td>\n",
       "      <td>Norm</td>\n",
       "      <td>Cash</td>\n",
       "      <td>278</td>\n",
       "    </tr>\n",
       "    <tr>\n",
       "      <th>4</th>\n",
       "      <td>cepedor01</td>\n",
       "      <td>Orlando</td>\n",
       "      <td>Cepeda</td>\n",
       "      <td>254</td>\n",
       "    </tr>\n",
       "    <tr>\n",
       "      <th>5</th>\n",
       "      <td>colavro01</td>\n",
       "      <td>Rocky</td>\n",
       "      <td>Colavito</td>\n",
       "      <td>245</td>\n",
       "    </tr>\n",
       "    <tr>\n",
       "      <th>6</th>\n",
       "      <td>howarfr01</td>\n",
       "      <td>Frank</td>\n",
       "      <td>Howard</td>\n",
       "      <td>288</td>\n",
       "    </tr>\n",
       "    <tr>\n",
       "      <th>7</th>\n",
       "      <td>kalinal01</td>\n",
       "      <td>Al</td>\n",
       "      <td>Kaline</td>\n",
       "      <td>210</td>\n",
       "    </tr>\n",
       "    <tr>\n",
       "      <th>8</th>\n",
       "      <td>killeha01</td>\n",
       "      <td>Harmon</td>\n",
       "      <td>Killebrew</td>\n",
       "      <td>393</td>\n",
       "    </tr>\n",
       "    <tr>\n",
       "      <th>9</th>\n",
       "      <td>mantlmi01</td>\n",
       "      <td>Mickey</td>\n",
       "      <td>Mantle</td>\n",
       "      <td>256</td>\n",
       "    </tr>\n",
       "    <tr>\n",
       "      <th>10</th>\n",
       "      <td>marisro01</td>\n",
       "      <td>Roger</td>\n",
       "      <td>Maris</td>\n",
       "      <td>217</td>\n",
       "    </tr>\n",
       "    <tr>\n",
       "      <th>11</th>\n",
       "      <td>matheed01</td>\n",
       "      <td>Eddie</td>\n",
       "      <td>Mathews</td>\n",
       "      <td>213</td>\n",
       "    </tr>\n",
       "    <tr>\n",
       "      <th>12</th>\n",
       "      <td>mayswi01</td>\n",
       "      <td>Willie</td>\n",
       "      <td>Mays</td>\n",
       "      <td>350</td>\n",
       "    </tr>\n",
       "    <tr>\n",
       "      <th>13</th>\n",
       "      <td>mccovwi01</td>\n",
       "      <td>Willie</td>\n",
       "      <td>McCovey</td>\n",
       "      <td>300</td>\n",
       "    </tr>\n",
       "    <tr>\n",
       "      <th>14</th>\n",
       "      <td>powelbo01</td>\n",
       "      <td>Boog</td>\n",
       "      <td>Powell</td>\n",
       "      <td>202</td>\n",
       "    </tr>\n",
       "    <tr>\n",
       "      <th>15</th>\n",
       "      <td>robinfr02</td>\n",
       "      <td>Frank</td>\n",
       "      <td>Robinson</td>\n",
       "      <td>316</td>\n",
       "    </tr>\n",
       "    <tr>\n",
       "      <th>16</th>\n",
       "      <td>santoro01</td>\n",
       "      <td>Ron</td>\n",
       "      <td>Santo</td>\n",
       "      <td>253</td>\n",
       "    </tr>\n",
       "    <tr>\n",
       "      <th>17</th>\n",
       "      <td>willibi01</td>\n",
       "      <td>Billy</td>\n",
       "      <td>Williams</td>\n",
       "      <td>249</td>\n",
       "    </tr>\n",
       "    <tr>\n",
       "      <th>18</th>\n",
       "      <td>yastrca01</td>\n",
       "      <td>Carl</td>\n",
       "      <td>Yastrzemski</td>\n",
       "      <td>202</td>\n",
       "    </tr>\n",
       "  </tbody>\n",
       "</table>\n",
       "</div>"
      ],
      "text/plain": [
       "     playerID nameFirst     nameLast   HR\n",
       "0   aaronha01      Hank        Aaron  375\n",
       "1   allisbo01       Bob      Allison  225\n",
       "2   bankser01     Ernie        Banks  269\n",
       "3    cashno01      Norm         Cash  278\n",
       "4   cepedor01   Orlando       Cepeda  254\n",
       "5   colavro01     Rocky     Colavito  245\n",
       "6   howarfr01     Frank       Howard  288\n",
       "7   kalinal01        Al       Kaline  210\n",
       "8   killeha01    Harmon    Killebrew  393\n",
       "9   mantlmi01    Mickey       Mantle  256\n",
       "10  marisro01     Roger        Maris  217\n",
       "11  matheed01     Eddie      Mathews  213\n",
       "12   mayswi01    Willie         Mays  350\n",
       "13  mccovwi01    Willie      McCovey  300\n",
       "14  powelbo01      Boog       Powell  202\n",
       "15  robinfr02     Frank     Robinson  316\n",
       "16  santoro01       Ron        Santo  253\n",
       "17  willibi01     Billy     Williams  249\n",
       "18  yastrca01      Carl  Yastrzemski  202"
      ]
     },
     "execution_count": 140,
     "metadata": {},
     "output_type": "execute_result"
    }
   ],
   "source": [
    "Batting_Data = pd.read_csv(\"Batting.csv\")\n",
    "Filtered_Data = Batting_Data.loc[Batting_Data['yearID'].isin(range(1960,1970))]\n",
    "Grouped_Data  = Filtered_Data.groupby(['playerID']).agg({\"nameFirst\":\"first\",\"nameLast\":\"first\",\"HR\":\"sum\"})\n",
    "Grouped_Data = Grouped_Data[Grouped_Data[\"HR\"]>200]\n",
    "Grouped_Data.reset_index()\n"
   ]
  },
  {
   "cell_type": "markdown",
   "metadata": {},
   "source": [
    "## 8)\tWho has hit the most HRs in history? (Dataframe)\n"
   ]
  },
  {
   "cell_type": "code",
   "execution_count": 141,
   "metadata": {
    "collapsed": false
   },
   "outputs": [
    {
     "data": {
      "text/html": [
       "<div>\n",
       "<style>\n",
       "    .dataframe thead tr:only-child th {\n",
       "        text-align: right;\n",
       "    }\n",
       "\n",
       "    .dataframe thead th {\n",
       "        text-align: left;\n",
       "    }\n",
       "\n",
       "    .dataframe tbody tr th {\n",
       "        vertical-align: top;\n",
       "    }\n",
       "</style>\n",
       "<table border=\"1\" class=\"dataframe\">\n",
       "  <thead>\n",
       "    <tr style=\"text-align: right;\">\n",
       "      <th></th>\n",
       "      <th>playerID</th>\n",
       "      <th>nameFirst</th>\n",
       "      <th>nameLast</th>\n",
       "      <th>HR</th>\n",
       "    </tr>\n",
       "  </thead>\n",
       "  <tbody>\n",
       "    <tr>\n",
       "      <th>1542</th>\n",
       "      <td>bondsba01</td>\n",
       "      <td>Barry</td>\n",
       "      <td>Bonds</td>\n",
       "      <td>762</td>\n",
       "    </tr>\n",
       "  </tbody>\n",
       "</table>\n",
       "</div>"
      ],
      "text/plain": [
       "       playerID nameFirst nameLast   HR\n",
       "1542  bondsba01     Barry    Bonds  762"
      ]
     },
     "execution_count": 141,
     "metadata": {},
     "output_type": "execute_result"
    }
   ],
   "source": [
    "Batting_Data = pd.read_csv(\"Batting.csv\").fillna(0)\n",
    "Filtered_Data = Batting_Data.groupby(\"playerID\",as_index=False).agg({\"nameFirst\":\"first\",\"nameLast\":\"first\",\"HR\":\"sum\"})\n",
    "Filtered_Data=Filtered_Data.sort_values(by=['HR'], ascending=[False]).head(1)\n",
    "Filtered_Data"
   ]
  },
  {
   "cell_type": "markdown",
   "metadata": {},
   "source": [
    "## 9)\tWho had the most hits in the 1970s? (Dataframe)\n"
   ]
  },
  {
   "cell_type": "code",
   "execution_count": 142,
   "metadata": {
    "collapsed": false
   },
   "outputs": [
    {
     "data": {
      "text/html": [
       "<div>\n",
       "<style>\n",
       "    .dataframe thead tr:only-child th {\n",
       "        text-align: right;\n",
       "    }\n",
       "\n",
       "    .dataframe thead th {\n",
       "        text-align: left;\n",
       "    }\n",
       "\n",
       "    .dataframe tbody tr th {\n",
       "        vertical-align: top;\n",
       "    }\n",
       "</style>\n",
       "<table border=\"1\" class=\"dataframe\">\n",
       "  <thead>\n",
       "    <tr style=\"text-align: right;\">\n",
       "      <th></th>\n",
       "      <th>playerID</th>\n",
       "      <th>nameFirst</th>\n",
       "      <th>nameLast</th>\n",
       "      <th>H</th>\n",
       "    </tr>\n",
       "  </thead>\n",
       "  <tbody>\n",
       "    <tr>\n",
       "      <th>1639</th>\n",
       "      <td>rosepe01</td>\n",
       "      <td>Pete</td>\n",
       "      <td>Rose</td>\n",
       "      <td>2045</td>\n",
       "    </tr>\n",
       "  </tbody>\n",
       "</table>\n",
       "</div>"
      ],
      "text/plain": [
       "      playerID nameFirst nameLast     H\n",
       "1639  rosepe01      Pete     Rose  2045"
      ]
     },
     "execution_count": 142,
     "metadata": {},
     "output_type": "execute_result"
    }
   ],
   "source": [
    "Batting_Data = pd.read_csv(\"Batting.csv\").fillna(0)\n",
    "Filtered_Data = Batting_Data.loc[Batting_Data['yearID'].isin(range(1970,1980))]\n",
    "Filtered_Data  = Filtered_Data.groupby(['playerID'],as_index=False).agg({\"nameFirst\":\"first\",\"nameLast\":\"first\",\"H\":\"sum\"})\n",
    "Filtered_Data=Filtered_Data.sort_values(by=['H'], ascending=[False]).head(1)\n",
    "Filtered_Data"
   ]
  },
  {
   "cell_type": "markdown",
   "metadata": {},
   "source": [
    "## 10)\tTop 5 highest OBP (on base percentage) with at least 500 PAs in 1977?  (Dataframe)\n"
   ]
  },
  {
   "cell_type": "code",
   "execution_count": 143,
   "metadata": {
    "collapsed": false
   },
   "outputs": [
    {
     "data": {
      "text/html": [
       "<div>\n",
       "<style>\n",
       "    .dataframe thead tr:only-child th {\n",
       "        text-align: right;\n",
       "    }\n",
       "\n",
       "    .dataframe thead th {\n",
       "        text-align: left;\n",
       "    }\n",
       "\n",
       "    .dataframe tbody tr th {\n",
       "        vertical-align: top;\n",
       "    }\n",
       "</style>\n",
       "<table border=\"1\" class=\"dataframe\">\n",
       "  <thead>\n",
       "    <tr style=\"text-align: right;\">\n",
       "      <th></th>\n",
       "      <th>index</th>\n",
       "      <th>playerID</th>\n",
       "      <th>yearID</th>\n",
       "      <th>OBP</th>\n",
       "      <th>PA</th>\n",
       "    </tr>\n",
       "  </thead>\n",
       "  <tbody>\n",
       "    <tr>\n",
       "      <th>0</th>\n",
       "      <td>745</td>\n",
       "      <td>singlke01</td>\n",
       "      <td>1977</td>\n",
       "      <td>0.563433</td>\n",
       "      <td>662.0</td>\n",
       "    </tr>\n",
       "    <tr>\n",
       "      <th>1</th>\n",
       "      <td>752</td>\n",
       "      <td>smithre06</td>\n",
       "      <td>1977</td>\n",
       "      <td>0.559426</td>\n",
       "      <td>611.0</td>\n",
       "    </tr>\n",
       "    <tr>\n",
       "      <th>2</th>\n",
       "      <td>800</td>\n",
       "      <td>tenacge01</td>\n",
       "      <td>1977</td>\n",
       "      <td>0.556064</td>\n",
       "      <td>578.0</td>\n",
       "    </tr>\n",
       "    <tr>\n",
       "      <th>3</th>\n",
       "      <td>334</td>\n",
       "      <td>hargrmi01</td>\n",
       "      <td>1977</td>\n",
       "      <td>0.540952</td>\n",
       "      <td>649.0</td>\n",
       "    </tr>\n",
       "    <tr>\n",
       "      <th>4</th>\n",
       "      <td>135</td>\n",
       "      <td>carewro01</td>\n",
       "      <td>1977</td>\n",
       "      <td>0.534091</td>\n",
       "      <td>706.0</td>\n",
       "    </tr>\n",
       "  </tbody>\n",
       "</table>\n",
       "</div>"
      ],
      "text/plain": [
       "   index   playerID  yearID       OBP     PA\n",
       "0    745  singlke01    1977  0.563433  662.0\n",
       "1    752  smithre06    1977  0.559426  611.0\n",
       "2    800  tenacge01    1977  0.556064  578.0\n",
       "3    334  hargrmi01    1977  0.540952  649.0\n",
       "4    135  carewro01    1977  0.534091  706.0"
      ]
     },
     "execution_count": 143,
     "metadata": {},
     "output_type": "execute_result"
    }
   ],
   "source": [
    "Batting_Data = pd.read_csv(\"Batting.csv\").fillna(0)\n",
    "Filtered_Data = Batting_Data.loc[Batting_Data['yearID']==1977]\n",
    "Filtered_Data = Filtered_Data.groupby(\"playerID\",as_index=False).sum()\n",
    "Filtered_Data['PA'] = Filtered_Data.AB+Filtered_Data.BB+Filtered_Data.IBB+Filtered_Data.SH+Filtered_Data.SF\n",
    "Filtered_Data['OBP'] = (Filtered_Data.H+Filtered_Data.BB+Filtered_Data.IBB+Filtered_Data.SH+Filtered_Data.SF)/Filtered_Data.AB\n",
    "Filtered_Data = Filtered_Data.loc[Filtered_Data['PA']>=500]\n",
    "Filtered_Data=Filtered_Data.sort_values(by=['OBP'], ascending=[False]).head(5)\n",
    "Filtered_Data[[\"playerID\",\"yearID\",\"OBP\",\"PA\"]].reset_index()"
   ]
  },
  {
   "cell_type": "markdown",
   "metadata": {},
   "source": [
    "## 11)\tTop 8 highest averages in 2013 with at least 300 PAs? (Dataframe)\n"
   ]
  },
  {
   "cell_type": "code",
   "execution_count": 144,
   "metadata": {
    "collapsed": false,
    "scrolled": true
   },
   "outputs": [
    {
     "data": {
      "text/html": [
       "<div>\n",
       "<style>\n",
       "    .dataframe thead tr:only-child th {\n",
       "        text-align: right;\n",
       "    }\n",
       "\n",
       "    .dataframe thead th {\n",
       "        text-align: left;\n",
       "    }\n",
       "\n",
       "    .dataframe tbody tr th {\n",
       "        vertical-align: top;\n",
       "    }\n",
       "</style>\n",
       "<table border=\"1\" class=\"dataframe\">\n",
       "  <thead>\n",
       "    <tr style=\"text-align: right;\">\n",
       "      <th></th>\n",
       "      <th>index</th>\n",
       "      <th>playerID</th>\n",
       "      <th>yearID</th>\n",
       "      <th>Avg</th>\n",
       "      <th>PA</th>\n",
       "    </tr>\n",
       "  </thead>\n",
       "  <tbody>\n",
       "    <tr>\n",
       "      <th>0</th>\n",
       "      <td>167</td>\n",
       "      <td>cabremi01</td>\n",
       "      <td>2013</td>\n",
       "      <td>0.347748</td>\n",
       "      <td>666.0</td>\n",
       "    </tr>\n",
       "    <tr>\n",
       "      <th>1</th>\n",
       "      <td>980</td>\n",
       "      <td>ramirha01</td>\n",
       "      <td>2013</td>\n",
       "      <td>0.345395</td>\n",
       "      <td>336.0</td>\n",
       "    </tr>\n",
       "    <tr>\n",
       "      <th>2</th>\n",
       "      <td>269</td>\n",
       "      <td>cuddymi01</td>\n",
       "      <td>2013</td>\n",
       "      <td>0.331288</td>\n",
       "      <td>543.0</td>\n",
       "    </tr>\n",
       "    <tr>\n",
       "      <th>3</th>\n",
       "      <td>759</td>\n",
       "      <td>mauerjo01</td>\n",
       "      <td>2013</td>\n",
       "      <td>0.323596</td>\n",
       "      <td>515.0</td>\n",
       "    </tr>\n",
       "    <tr>\n",
       "      <th>4</th>\n",
       "      <td>1196</td>\n",
       "      <td>troutmi01</td>\n",
       "      <td>2013</td>\n",
       "      <td>0.322581</td>\n",
       "      <td>717.0</td>\n",
       "    </tr>\n",
       "    <tr>\n",
       "      <th>5</th>\n",
       "      <td>595</td>\n",
       "      <td>johnsch05</td>\n",
       "      <td>2013</td>\n",
       "      <td>0.321012</td>\n",
       "      <td>550.0</td>\n",
       "    </tr>\n",
       "    <tr>\n",
       "      <th>6</th>\n",
       "      <td>398</td>\n",
       "      <td>freemfr01</td>\n",
       "      <td>2013</td>\n",
       "      <td>0.319419</td>\n",
       "      <td>632.0</td>\n",
       "    </tr>\n",
       "    <tr>\n",
       "      <th>7</th>\n",
       "      <td>962</td>\n",
       "      <td>puigya01</td>\n",
       "      <td>2013</td>\n",
       "      <td>0.319372</td>\n",
       "      <td>427.0</td>\n",
       "    </tr>\n",
       "  </tbody>\n",
       "</table>\n",
       "</div>"
      ],
      "text/plain": [
       "   index   playerID  yearID       Avg     PA\n",
       "0    167  cabremi01    2013  0.347748  666.0\n",
       "1    980  ramirha01    2013  0.345395  336.0\n",
       "2    269  cuddymi01    2013  0.331288  543.0\n",
       "3    759  mauerjo01    2013  0.323596  515.0\n",
       "4   1196  troutmi01    2013  0.322581  717.0\n",
       "5    595  johnsch05    2013  0.321012  550.0\n",
       "6    398  freemfr01    2013  0.319419  632.0\n",
       "7    962   puigya01    2013  0.319372  427.0"
      ]
     },
     "execution_count": 144,
     "metadata": {},
     "output_type": "execute_result"
    }
   ],
   "source": [
    "Batting_Data = pd.read_csv(\"Batting.csv\").fillna(0)\n",
    "Filtered_Data = Batting_Data.loc[Batting_Data['yearID']==2013]\n",
    "Filtered_Data = Filtered_Data.groupby(\"playerID\",as_index=False).sum()\n",
    "Filtered_Data['PA'] = Filtered_Data.AB+Filtered_Data.BB+Filtered_Data.IBB+Filtered_Data.SH+Filtered_Data.SF\n",
    "Filtered_Data['Avg'] = Filtered_Data.H/Filtered_Data.AB\n",
    "Filtered_Data = Filtered_Data.loc[Filtered_Data['PA']>=300]\n",
    "Filtered_Data=Filtered_Data.sort_values(by=['Avg'], ascending=[False]).head(8)\n",
    "Filtered_Data[[\"playerID\",\"yearID\",\"Avg\",\"PA\"]].reset_index()"
   ]
  },
  {
   "cell_type": "markdown",
   "metadata": {},
   "source": [
    "## 12)\tLeaders in hits from 1940 up to and including 1949. (Dataframe)\n"
   ]
  },
  {
   "cell_type": "code",
   "execution_count": 145,
   "metadata": {
    "collapsed": false
   },
   "outputs": [
    {
     "data": {
      "text/html": [
       "<div>\n",
       "<style>\n",
       "    .dataframe thead tr:only-child th {\n",
       "        text-align: right;\n",
       "    }\n",
       "\n",
       "    .dataframe thead th {\n",
       "        text-align: left;\n",
       "    }\n",
       "\n",
       "    .dataframe tbody tr th {\n",
       "        vertical-align: top;\n",
       "    }\n",
       "</style>\n",
       "<table border=\"1\" class=\"dataframe\">\n",
       "  <thead>\n",
       "    <tr style=\"text-align: right;\">\n",
       "      <th></th>\n",
       "      <th>index</th>\n",
       "      <th>playerID</th>\n",
       "      <th>nameFirst</th>\n",
       "      <th>nameLast</th>\n",
       "      <th>H</th>\n",
       "    </tr>\n",
       "  </thead>\n",
       "  <tbody>\n",
       "    <tr>\n",
       "      <th>0</th>\n",
       "      <td>138</td>\n",
       "      <td>boudrlo01</td>\n",
       "      <td>Lou</td>\n",
       "      <td>Boudreau</td>\n",
       "      <td>1578</td>\n",
       "    </tr>\n",
       "    <tr>\n",
       "      <th>1</th>\n",
       "      <td>427</td>\n",
       "      <td>elliobo01</td>\n",
       "      <td>Bob</td>\n",
       "      <td>Elliott</td>\n",
       "      <td>1563</td>\n",
       "    </tr>\n",
       "    <tr>\n",
       "      <th>2</th>\n",
       "      <td>1576</td>\n",
       "      <td>walkedi02</td>\n",
       "      <td>Dixie</td>\n",
       "      <td>Walker</td>\n",
       "      <td>1512</td>\n",
       "    </tr>\n",
       "    <tr>\n",
       "      <th>3</th>\n",
       "      <td>1103</td>\n",
       "      <td>musiast01</td>\n",
       "      <td>Stan</td>\n",
       "      <td>Musial</td>\n",
       "      <td>1432</td>\n",
       "    </tr>\n",
       "    <tr>\n",
       "      <th>4</th>\n",
       "      <td>390</td>\n",
       "      <td>doerrbo01</td>\n",
       "      <td>Bobby</td>\n",
       "      <td>Doerr</td>\n",
       "      <td>1407</td>\n",
       "    </tr>\n",
       "    <tr>\n",
       "      <th>5</th>\n",
       "      <td>712</td>\n",
       "      <td>holmeto01</td>\n",
       "      <td>Tommy</td>\n",
       "      <td>Holmes</td>\n",
       "      <td>1402</td>\n",
       "    </tr>\n",
       "    <tr>\n",
       "      <th>6</th>\n",
       "      <td>33</td>\n",
       "      <td>applilu01</td>\n",
       "      <td>Luke</td>\n",
       "      <td>Appling</td>\n",
       "      <td>1376</td>\n",
       "    </tr>\n",
       "    <tr>\n",
       "      <th>7</th>\n",
       "      <td>1127</td>\n",
       "      <td>nichobi01</td>\n",
       "      <td>Bill</td>\n",
       "      <td>Nicholson</td>\n",
       "      <td>1328</td>\n",
       "    </tr>\n",
       "    <tr>\n",
       "      <th>8</th>\n",
       "      <td>961</td>\n",
       "      <td>marioma01</td>\n",
       "      <td>Marty</td>\n",
       "      <td>Marion</td>\n",
       "      <td>1310</td>\n",
       "    </tr>\n",
       "    <tr>\n",
       "      <th>9</th>\n",
       "      <td>239</td>\n",
       "      <td>cavarph01</td>\n",
       "      <td>Phil</td>\n",
       "      <td>Cavarretta</td>\n",
       "      <td>1304</td>\n",
       "    </tr>\n",
       "  </tbody>\n",
       "</table>\n",
       "</div>"
      ],
      "text/plain": [
       "   index   playerID nameFirst    nameLast     H\n",
       "0    138  boudrlo01       Lou    Boudreau  1578\n",
       "1    427  elliobo01       Bob     Elliott  1563\n",
       "2   1576  walkedi02     Dixie      Walker  1512\n",
       "3   1103  musiast01      Stan      Musial  1432\n",
       "4    390  doerrbo01     Bobby       Doerr  1407\n",
       "5    712  holmeto01     Tommy      Holmes  1402\n",
       "6     33  applilu01      Luke     Appling  1376\n",
       "7   1127  nichobi01      Bill   Nicholson  1328\n",
       "8    961  marioma01     Marty      Marion  1310\n",
       "9    239  cavarph01      Phil  Cavarretta  1304"
      ]
     },
     "execution_count": 145,
     "metadata": {},
     "output_type": "execute_result"
    }
   ],
   "source": [
    "Batting_Data = pd.read_csv(\"Batting.csv\").fillna(0)\n",
    "Filtered_Data = Batting_Data.loc[Batting_Data['yearID'].isin(range(1940,1950))]\n",
    "Filtered_Data = Filtered_Data.groupby(\"playerID\",as_index=False).agg({\"nameFirst\":\"first\",\"nameLast\":\"first\",\"H\":\"sum\"})\n",
    "Filtered_Data=Filtered_Data.sort_values(by=['H'], ascending=[False]).head(10)\n",
    "Filtered_Data.reset_index()\n",
    "# TOP 10 Leaders"
   ]
  },
  {
   "cell_type": "markdown",
   "metadata": {},
   "source": [
    "## 13)\tWho led MLB with the most hits the most times?  And how many times?  (Dataframe, Number)\n"
   ]
  },
  {
   "cell_type": "code",
   "execution_count": null,
   "metadata": {
    "collapsed": true
   },
   "outputs": [],
   "source": []
  },
  {
   "cell_type": "markdown",
   "metadata": {},
   "source": [
    "## 14) Which players have played the most games for their careers?  Top 5, descending by games played presented as a dataframe\n"
   ]
  },
  {
   "cell_type": "code",
   "execution_count": 118,
   "metadata": {
    "collapsed": false
   },
   "outputs": [
    {
     "data": {
      "text/html": [
       "<div>\n",
       "<style>\n",
       "    .dataframe thead tr:only-child th {\n",
       "        text-align: right;\n",
       "    }\n",
       "\n",
       "    .dataframe thead th {\n",
       "        text-align: left;\n",
       "    }\n",
       "\n",
       "    .dataframe tbody tr th {\n",
       "        vertical-align: top;\n",
       "    }\n",
       "</style>\n",
       "<table border=\"1\" class=\"dataframe\">\n",
       "  <thead>\n",
       "    <tr style=\"text-align: right;\">\n",
       "      <th></th>\n",
       "      <th>index</th>\n",
       "      <th>playerID</th>\n",
       "      <th>nameFirst</th>\n",
       "      <th>nameLast</th>\n",
       "      <th>G</th>\n",
       "    </tr>\n",
       "  </thead>\n",
       "  <tbody>\n",
       "    <tr>\n",
       "      <th>0</th>\n",
       "      <td>14719</td>\n",
       "      <td>rosepe01</td>\n",
       "      <td>Pete</td>\n",
       "      <td>Rose</td>\n",
       "      <td>3562</td>\n",
       "    </tr>\n",
       "    <tr>\n",
       "      <th>1</th>\n",
       "      <td>18728</td>\n",
       "      <td>yastrca01</td>\n",
       "      <td>Carl</td>\n",
       "      <td>Yastrzemski</td>\n",
       "      <td>3308</td>\n",
       "    </tr>\n",
       "    <tr>\n",
       "      <th>2</th>\n",
       "      <td>1</td>\n",
       "      <td>aaronha01</td>\n",
       "      <td>Hank</td>\n",
       "      <td>Aaron</td>\n",
       "      <td>3298</td>\n",
       "    </tr>\n",
       "    <tr>\n",
       "      <th>3</th>\n",
       "      <td>7383</td>\n",
       "      <td>henderi01</td>\n",
       "      <td>Rickey</td>\n",
       "      <td>Henderson</td>\n",
       "      <td>3081</td>\n",
       "    </tr>\n",
       "    <tr>\n",
       "      <th>4</th>\n",
       "      <td>3155</td>\n",
       "      <td>cobbty01</td>\n",
       "      <td>Ty</td>\n",
       "      <td>Cobb</td>\n",
       "      <td>3035</td>\n",
       "    </tr>\n",
       "  </tbody>\n",
       "</table>\n",
       "</div>"
      ],
      "text/plain": [
       "   index   playerID nameFirst     nameLast     G\n",
       "0  14719   rosepe01      Pete         Rose  3562\n",
       "1  18728  yastrca01      Carl  Yastrzemski  3308\n",
       "2      1  aaronha01      Hank        Aaron  3298\n",
       "3   7383  henderi01    Rickey    Henderson  3081\n",
       "4   3155   cobbty01        Ty         Cobb  3035"
      ]
     },
     "execution_count": 118,
     "metadata": {},
     "output_type": "execute_result"
    }
   ],
   "source": [
    "Batting_Data = pd.read_csv(\"Batting.csv\")\n",
    "Batting_Data = Batting_Data.groupby(\"playerID\",as_index=False).agg({\"nameFirst\":\"first\",\"nameLast\":\"first\",\"G\":\"sum\"})\n",
    "sorted_data = Batting_Data.sort_values(by=\"G\",ascending=False).head(5)\n",
    "sorted_data.reset_index()"
   ]
  },
  {
   "cell_type": "markdown",
   "metadata": {},
   "source": [
    "## 15) How many players have had more than 3000 hits for their careers while also hitting 500 or more HRs?  Just a number is okay here\n"
   ]
  },
  {
   "cell_type": "code",
   "execution_count": 350,
   "metadata": {
    "collapsed": false
   },
   "outputs": [
    {
     "data": {
      "text/plain": [
       "5"
      ]
     },
     "execution_count": 350,
     "metadata": {},
     "output_type": "execute_result"
    }
   ],
   "source": [
    "Batting_Data = pd.read_csv(\"batting.csv\")\n",
    "Grouped_Data = Batting_Data.groupby(\"playerID\").sum()\n",
    "Filtered_Data = Grouped_Data.loc[Filtered_Data['H']>3000]\n",
    "Filtered_Data = Filtered_Data.loc[Filtered_Data['HR']>=500]\n",
    "len(Filtered_Data.index)"
   ]
  },
  {
   "cell_type": "markdown",
   "metadata": {},
   "source": [
    "## 16) How many HRs were hit during the entire 1988 season?  Just a number is okay here\n"
   ]
  },
  {
   "cell_type": "code",
   "execution_count": 372,
   "metadata": {
    "collapsed": false
   },
   "outputs": [
    {
     "data": {
      "text/plain": [
       "3180"
      ]
     },
     "execution_count": 372,
     "metadata": {},
     "output_type": "execute_result"
    }
   ],
   "source": [
    "Grouped_Data = Batting_Data.groupby('yearID').sum()\n",
    "Grouped_Data[\"HR\"][1988]"
   ]
  },
  {
   "cell_type": "markdown",
   "metadata": {},
   "source": [
    "## 17) Please filter out and show me the top 3 average seasons by Wade Boggs during his career in seasons in which he had at least 500 ABs.  I would like a dataframe sorted by average.\n",
    "\n"
   ]
  },
  {
   "cell_type": "code",
   "execution_count": 115,
   "metadata": {
    "collapsed": false
   },
   "outputs": [
    {
     "data": {
      "text/html": [
       "<div>\n",
       "<style>\n",
       "    .dataframe thead tr:only-child th {\n",
       "        text-align: right;\n",
       "    }\n",
       "\n",
       "    .dataframe thead th {\n",
       "        text-align: left;\n",
       "    }\n",
       "\n",
       "    .dataframe tbody tr th {\n",
       "        vertical-align: top;\n",
       "    }\n",
       "</style>\n",
       "<table border=\"1\" class=\"dataframe\">\n",
       "  <thead>\n",
       "    <tr style=\"text-align: right;\">\n",
       "      <th></th>\n",
       "      <th>index</th>\n",
       "      <th>yearID</th>\n",
       "      <th>nameFirst</th>\n",
       "      <th>nameLast</th>\n",
       "      <th>H</th>\n",
       "      <th>AB</th>\n",
       "      <th>Avg</th>\n",
       "    </tr>\n",
       "  </thead>\n",
       "  <tbody>\n",
       "    <tr>\n",
       "      <th>0</th>\n",
       "      <td>3</td>\n",
       "      <td>1985</td>\n",
       "      <td>Wade</td>\n",
       "      <td>Boggs</td>\n",
       "      <td>240</td>\n",
       "      <td>653</td>\n",
       "      <td>0.367534</td>\n",
       "    </tr>\n",
       "    <tr>\n",
       "      <th>1</th>\n",
       "      <td>6</td>\n",
       "      <td>1988</td>\n",
       "      <td>Wade</td>\n",
       "      <td>Boggs</td>\n",
       "      <td>214</td>\n",
       "      <td>584</td>\n",
       "      <td>0.366438</td>\n",
       "    </tr>\n",
       "    <tr>\n",
       "      <th>2</th>\n",
       "      <td>5</td>\n",
       "      <td>1987</td>\n",
       "      <td>Wade</td>\n",
       "      <td>Boggs</td>\n",
       "      <td>200</td>\n",
       "      <td>551</td>\n",
       "      <td>0.362976</td>\n",
       "    </tr>\n",
       "  </tbody>\n",
       "</table>\n",
       "</div>"
      ],
      "text/plain": [
       "   index  yearID nameFirst nameLast    H   AB       Avg\n",
       "0      3    1985      Wade    Boggs  240  653  0.367534\n",
       "1      6    1988      Wade    Boggs  214  584  0.366438\n",
       "2      5    1987      Wade    Boggs  200  551  0.362976"
      ]
     },
     "execution_count": 115,
     "metadata": {},
     "output_type": "execute_result"
    }
   ],
   "source": [
    "Batting_Data = pd.read_csv(\"Batting.csv\").fillna(0)\n",
    "Filtered_Data = Batting_Data.loc[(Batting_Data['nameFirst']=='Wade') & (Batting_Data['nameLast']=='Boggs')]\n",
    "Filtered_Data = Filtered_Data.groupby(\"yearID\",as_index=False).agg({\"nameFirst\":\"first\",\"nameLast\":\"first\",\"H\":\"sum\",\"AB\":\"sum\"})\n",
    "Filtered_Data['Avg'] = Filtered_Data.H/Filtered_Data.AB\n",
    "Filtered_Data = Filtered_Data.loc[Filtered_Data['AB']>=500]\n",
    "Filtered_Data = Filtered_Data.sort_values(by=\"Avg\",ascending=False).head(3)\n",
    "Filtered_Data.reset_index()"
   ]
  },
  {
   "cell_type": "markdown",
   "metadata": {},
   "source": [
    "## 18) Please filter out the top OBPs for the 1995 season with at least 400 PAs, sorted by OBP.  I would like a dataframe for this\n"
   ]
  },
  {
   "cell_type": "code",
   "execution_count": 109,
   "metadata": {
    "collapsed": false
   },
   "outputs": [
    {
     "data": {
      "text/html": [
       "<div>\n",
       "<style>\n",
       "    .dataframe thead tr:only-child th {\n",
       "        text-align: right;\n",
       "    }\n",
       "\n",
       "    .dataframe thead th {\n",
       "        text-align: left;\n",
       "    }\n",
       "\n",
       "    .dataframe tbody tr th {\n",
       "        vertical-align: top;\n",
       "    }\n",
       "</style>\n",
       "<table border=\"1\" class=\"dataframe\">\n",
       "  <thead>\n",
       "    <tr style=\"text-align: right;\">\n",
       "      <th></th>\n",
       "      <th>index</th>\n",
       "      <th>playerID</th>\n",
       "      <th>yearID</th>\n",
       "      <th>OBP</th>\n",
       "      <th>PA</th>\n",
       "    </tr>\n",
       "  </thead>\n",
       "  <tbody>\n",
       "    <tr>\n",
       "      <th>0</th>\n",
       "      <td>1002</td>\n",
       "      <td>thomafr04</td>\n",
       "      <td>1995</td>\n",
       "      <td>0.667343</td>\n",
       "      <td>670.0</td>\n",
       "    </tr>\n",
       "    <tr>\n",
       "      <th>1</th>\n",
       "      <td>628</td>\n",
       "      <td>martied01</td>\n",
       "      <td>1995</td>\n",
       "      <td>0.628180</td>\n",
       "      <td>650.0</td>\n",
       "    </tr>\n",
       "    <tr>\n",
       "      <th>2</th>\n",
       "      <td>659</td>\n",
       "      <td>mcgwima01</td>\n",
       "      <td>1995</td>\n",
       "      <td>0.586751</td>\n",
       "      <td>416.0</td>\n",
       "    </tr>\n",
       "    <tr>\n",
       "      <th>3</th>\n",
       "      <td>107</td>\n",
       "      <td>bondsba01</td>\n",
       "      <td>1995</td>\n",
       "      <td>0.583004</td>\n",
       "      <td>652.0</td>\n",
       "    </tr>\n",
       "    <tr>\n",
       "      <th>4</th>\n",
       "      <td>235</td>\n",
       "      <td>davisch01</td>\n",
       "      <td>1995</td>\n",
       "      <td>0.577830</td>\n",
       "      <td>534.0</td>\n",
       "    </tr>\n",
       "    <tr>\n",
       "      <th>5</th>\n",
       "      <td>612</td>\n",
       "      <td>magadda01</td>\n",
       "      <td>1995</td>\n",
       "      <td>0.551724</td>\n",
       "      <td>431.0</td>\n",
       "    </tr>\n",
       "    <tr>\n",
       "      <th>6</th>\n",
       "      <td>1005</td>\n",
       "      <td>thomeji01</td>\n",
       "      <td>1995</td>\n",
       "      <td>0.542035</td>\n",
       "      <td>555.0</td>\n",
       "    </tr>\n",
       "    <tr>\n",
       "      <th>7</th>\n",
       "      <td>46</td>\n",
       "      <td>baineha01</td>\n",
       "      <td>1995</td>\n",
       "      <td>0.524675</td>\n",
       "      <td>472.0</td>\n",
       "    </tr>\n",
       "    <tr>\n",
       "      <th>8</th>\n",
       "      <td>1080</td>\n",
       "      <td>weisswa01</td>\n",
       "      <td>1995</td>\n",
       "      <td>0.524590</td>\n",
       "      <td>540.0</td>\n",
       "    </tr>\n",
       "    <tr>\n",
       "      <th>9</th>\n",
       "      <td>104</td>\n",
       "      <td>boggswa01</td>\n",
       "      <td>1995</td>\n",
       "      <td>0.510870</td>\n",
       "      <td>546.0</td>\n",
       "    </tr>\n",
       "  </tbody>\n",
       "</table>\n",
       "</div>"
      ],
      "text/plain": [
       "   index   playerID  yearID       OBP     PA\n",
       "0   1002  thomafr04    1995  0.667343  670.0\n",
       "1    628  martied01    1995  0.628180  650.0\n",
       "2    659  mcgwima01    1995  0.586751  416.0\n",
       "3    107  bondsba01    1995  0.583004  652.0\n",
       "4    235  davisch01    1995  0.577830  534.0\n",
       "5    612  magadda01    1995  0.551724  431.0\n",
       "6   1005  thomeji01    1995  0.542035  555.0\n",
       "7     46  baineha01    1995  0.524675  472.0\n",
       "8   1080  weisswa01    1995  0.524590  540.0\n",
       "9    104  boggswa01    1995  0.510870  546.0"
      ]
     },
     "execution_count": 109,
     "metadata": {},
     "output_type": "execute_result"
    }
   ],
   "source": [
    "Batting_Data = pd.read_csv(\"Batting.csv\").fillna(0)\n",
    "Filtered_Data = Batting_Data.loc[Batting_Data['yearID']==1995]\n",
    "Filtered_Data = Filtered_Data.groupby(\"playerID\",as_index=False).sum()\n",
    "Filtered_Data['PA'] = Filtered_Data.AB+Filtered_Data.BB+Filtered_Data.IBB+Filtered_Data.SH+Filtered_Data.SF\n",
    "Filtered_Data['OBP'] = (Filtered_Data.H+Filtered_Data.BB+Filtered_Data.IBB+Filtered_Data.SH+Filtered_Data.SF)/Filtered_Data.AB\n",
    "Filtered_Data = Filtered_Data.loc[Filtered_Data['PA']>=400]\n",
    "Filtered_Data=Filtered_Data.sort_values(by=['OBP'], ascending=[False]).head(10)\n",
    "Filtered_Data[[\"playerID\",\"yearID\",\"OBP\",\"PA\"]].reset_index()"
   ]
  },
  {
   "cell_type": "markdown",
   "metadata": {},
   "source": [
    "## 19) Who had the most 3Bs (in total) in 1922, 1925, 1926, and 1928?  I would like a dataframe with just the leader\n"
   ]
  },
  {
   "cell_type": "code",
   "execution_count": 110,
   "metadata": {
    "collapsed": false
   },
   "outputs": [
    {
     "data": {
      "text/html": [
       "<div>\n",
       "<style>\n",
       "    .dataframe thead tr:only-child th {\n",
       "        text-align: right;\n",
       "    }\n",
       "\n",
       "    .dataframe thead th {\n",
       "        text-align: left;\n",
       "    }\n",
       "\n",
       "    .dataframe tbody tr th {\n",
       "        vertical-align: top;\n",
       "    }\n",
       "</style>\n",
       "<table border=\"1\" class=\"dataframe\">\n",
       "  <thead>\n",
       "    <tr style=\"text-align: right;\">\n",
       "      <th></th>\n",
       "      <th>yearID</th>\n",
       "      <th>3B</th>\n",
       "      <th>nameFirst</th>\n",
       "      <th>nameLast</th>\n",
       "      <th>playerID</th>\n",
       "    </tr>\n",
       "  </thead>\n",
       "  <tbody>\n",
       "    <tr>\n",
       "      <th>0</th>\n",
       "      <td>1922</td>\n",
       "      <td>22</td>\n",
       "      <td>Jake</td>\n",
       "      <td>Daubert</td>\n",
       "      <td>daubeja01</td>\n",
       "    </tr>\n",
       "    <tr>\n",
       "      <th>1</th>\n",
       "      <td>1925</td>\n",
       "      <td>26</td>\n",
       "      <td>Kiki</td>\n",
       "      <td>Cuyler</td>\n",
       "      <td>cuyleki01</td>\n",
       "    </tr>\n",
       "    <tr>\n",
       "      <th>2</th>\n",
       "      <td>1926</td>\n",
       "      <td>22</td>\n",
       "      <td>Paul</td>\n",
       "      <td>Waner</td>\n",
       "      <td>wanerpa01</td>\n",
       "    </tr>\n",
       "    <tr>\n",
       "      <th>3</th>\n",
       "      <td>1928</td>\n",
       "      <td>21</td>\n",
       "      <td>Earle</td>\n",
       "      <td>Combs</td>\n",
       "      <td>combsea01</td>\n",
       "    </tr>\n",
       "  </tbody>\n",
       "</table>\n",
       "</div>"
      ],
      "text/plain": [
       "   yearID  3B nameFirst nameLast   playerID\n",
       "0    1922  22      Jake  Daubert  daubeja01\n",
       "1    1925  26      Kiki   Cuyler  cuyleki01\n",
       "2    1926  22      Paul    Waner  wanerpa01\n",
       "3    1928  21     Earle    Combs  combsea01"
      ]
     },
     "execution_count": 110,
     "metadata": {},
     "output_type": "execute_result"
    }
   ],
   "source": [
    "Batting_Data = pd.read_csv(\"Batting.csv\").fillna(0)\n",
    "Filtered_Data = Batting_Data.loc[(Batting_Data['yearID']==1922) | (Batting_Data['yearID']==1925) | (Batting_Data['yearID']==1926) | (Batting_Data['yearID']==1928)]#','1925','1926','1928']]\n",
    "Grouped_Data = Filtered_Data.groupby([\"playerID\",\"yearID\"]).agg({\"3B\":\"sum\",\"nameFirst\":\"first\",\"nameLast\":\"first\",\"playerID\":\"first\"})\n",
    "Filtered_Data=Grouped_Data.sort_values(by=['3B'], ascending=[False])\n",
    "Filtered_Data = Filtered_Data.groupby('yearID').first()\n",
    "Filtered_Data.reset_index()"
   ]
  },
  {
   "cell_type": "markdown",
   "metadata": {},
   "source": [
    "## 20) How many players have hit 30 or more HRs in season while also stealing (SB) 30 more or bases?  A number is okay here\n",
    "\n"
   ]
  },
  {
   "cell_type": "code",
   "execution_count": 22,
   "metadata": {
    "collapsed": false
   },
   "outputs": [
    {
     "data": {
      "text/plain": [
       "38"
      ]
     },
     "execution_count": 22,
     "metadata": {},
     "output_type": "execute_result"
    }
   ],
   "source": [
    "Batting_Data = pd.read_csv(\"Batting.csv\")\n",
    "Grouped_Data = Batting_Data.groupby([\"playerID\",\"yearID\"],as_index=False).sum()\n",
    "Filtered_Data = Grouped_Data.loc[(Grouped_Data[\"HR\"]>=30) & (Grouped_Data[\"SB\"]>=30)]\n",
    "Filtered_Data=Filtered_Data.drop_duplicates('playerID')\n",
    "len(Filtered_Data.playerID)"
   ]
  },
  {
   "cell_type": "markdown",
   "metadata": {
    "collapsed": true
   },
   "source": [
    "## 21) Who had the highest OBP is 1986 with at least 400 PAs? (Dataframe)\n"
   ]
  },
  {
   "cell_type": "code",
   "execution_count": 85,
   "metadata": {
    "collapsed": false
   },
   "outputs": [
    {
     "data": {
      "text/html": [
       "<div>\n",
       "<style>\n",
       "    .dataframe thead tr:only-child th {\n",
       "        text-align: right;\n",
       "    }\n",
       "\n",
       "    .dataframe thead th {\n",
       "        text-align: left;\n",
       "    }\n",
       "\n",
       "    .dataframe tbody tr th {\n",
       "        vertical-align: top;\n",
       "    }\n",
       "</style>\n",
       "<table border=\"1\" class=\"dataframe\">\n",
       "  <thead>\n",
       "    <tr style=\"text-align: right;\">\n",
       "      <th></th>\n",
       "      <th>index</th>\n",
       "      <th>playerID</th>\n",
       "      <th>yearID</th>\n",
       "      <th>PA</th>\n",
       "      <th>OBP</th>\n",
       "    </tr>\n",
       "  </thead>\n",
       "  <tbody>\n",
       "    <tr>\n",
       "      <th>0</th>\n",
       "      <td>78</td>\n",
       "      <td>boggswa01</td>\n",
       "      <td>1986</td>\n",
       "      <td>707.0</td>\n",
       "      <td>0.575862</td>\n",
       "    </tr>\n",
       "  </tbody>\n",
       "</table>\n",
       "</div>"
      ],
      "text/plain": [
       "   index   playerID  yearID     PA       OBP\n",
       "0     78  boggswa01    1986  707.0  0.575862"
      ]
     },
     "execution_count": 85,
     "metadata": {},
     "output_type": "execute_result"
    }
   ],
   "source": [
    "Batting_Data = pd.read_csv(\"Batting.csv\").fillna(0)\n",
    "Filtered_Data = Batting_Data.loc[Batting_Data['yearID']==1986]\n",
    "Filtered_Data = Filtered_Data.groupby(\"playerID\",as_index=False).sum()\n",
    "Filtered_Data['PA'] = Filtered_Data.AB+Filtered_Data.BB+Filtered_Data.IBB+Filtered_Data.SH+Filtered_Data.SF\n",
    "Filtered_Data['OBP'] = (Filtered_Data.H+Filtered_Data.BB+Filtered_Data.IBB+Filtered_Data.SH+Filtered_Data.SF)/Filtered_Data.AB\n",
    "Filtered_Data = Filtered_Data.loc[Filtered_Data['PA']>=400]\n",
    "Filtered_Data=Filtered_Data.sort_values(by=['OBP'], ascending=[False]).head(1)\n",
    "Filtered_Data[[\"playerID\",\"yearID\",\"PA\",\"OBP\",]].reset_index()"
   ]
  },
  {
   "cell_type": "markdown",
   "metadata": {},
   "source": [
    "## 22) Same question but for 1997 and only in the NL (check league ID)? (Dataframe)"
   ]
  },
  {
   "cell_type": "code",
   "execution_count": 88,
   "metadata": {
    "collapsed": false
   },
   "outputs": [
    {
     "data": {
      "text/html": [
       "<div>\n",
       "<style>\n",
       "    .dataframe thead tr:only-child th {\n",
       "        text-align: right;\n",
       "    }\n",
       "\n",
       "    .dataframe thead th {\n",
       "        text-align: left;\n",
       "    }\n",
       "\n",
       "    .dataframe tbody tr th {\n",
       "        vertical-align: top;\n",
       "    }\n",
       "</style>\n",
       "<table border=\"1\" class=\"dataframe\">\n",
       "  <thead>\n",
       "    <tr style=\"text-align: right;\">\n",
       "      <th></th>\n",
       "      <th>index</th>\n",
       "      <th>playerID</th>\n",
       "      <th>yearID</th>\n",
       "      <th>PA</th>\n",
       "      <th>OBP</th>\n",
       "    </tr>\n",
       "  </thead>\n",
       "  <tbody>\n",
       "    <tr>\n",
       "      <th>0</th>\n",
       "      <td>60</td>\n",
       "      <td>bondsba01</td>\n",
       "      <td>1997</td>\n",
       "      <td>716.0</td>\n",
       "      <td>0.637218</td>\n",
       "    </tr>\n",
       "  </tbody>\n",
       "</table>\n",
       "</div>"
      ],
      "text/plain": [
       "   index   playerID  yearID     PA       OBP\n",
       "0     60  bondsba01    1997  716.0  0.637218"
      ]
     },
     "execution_count": 88,
     "metadata": {},
     "output_type": "execute_result"
    }
   ],
   "source": [
    "Batting_Data = pd.read_csv(\"Batting.csv\").fillna(0)\n",
    "Filtered_Data = Batting_Data.loc[(Batting_Data['yearID']==1997) & (Batting_Data['lgID']=='NL')]\n",
    "Filtered_Data = Filtered_Data.groupby(\"playerID\",as_index=False).sum()\n",
    "Filtered_Data['PA'] = Filtered_Data.AB+Filtered_Data.BB+Filtered_Data.IBB+Filtered_Data.SH+Filtered_Data.SF\n",
    "Filtered_Data['OBP'] = (Filtered_Data.H+Filtered_Data.BB+Filtered_Data.IBB+Filtered_Data.SH+Filtered_Data.SF)/Filtered_Data.AB\n",
    "Filtered_Data = Filtered_Data.loc[Filtered_Data['PA']>=400]\n",
    "Filtered_Data=Filtered_Data.sort_values(by=['OBP'], ascending=[False]).head(1)\n",
    "Filtered_Data[[\"playerID\",\"yearID\",\"PA\",\"OBP\",]].reset_index()"
   ]
  },
  {
   "cell_type": "markdown",
   "metadata": {},
   "source": [
    "## 23) Who had more than the league average HRs in 2012 (filter out all players with less 500 PAs)? (Dataframe)"
   ]
  },
  {
   "cell_type": "code",
   "execution_count": null,
   "metadata": {
    "collapsed": true
   },
   "outputs": [],
   "source": [
    "Batting_Data = pd.read_csv(\"Batting.csv\").fillna(0)\n",
    "Filtered_Data = Batting_Data.loc[(Batting_Data['yearID']==2012)]\n",
    "Filtered_Data = Filtered_Data.groupby(\"lgID\",as_index=False).agg({\"nameFirst\":\"first\",\"nameLast\":\"first\",\"HR\":\"sum\",\"Age\":\"first\"})\n",
    "Filtered_Data['PA'] = Filtered_Data.AB+Filtered_Data.BB+Filtered_Data.IBB+Filtered_Data.SH+Filtered_Data.SF\n",
    "Filtered_Data = Filtered_Data.loc[Filtered_Data['PA']>=500]\n",
    "Filtered_Data=Filtered_Data.sort_values(by=['OBP'], ascending=[False]).head(1)\n",
    "Filtered_Data[[\"playerID\",\"yearID\",\"PA\",\"OBP\",]].reset_index()"
   ]
  },
  {
   "cell_type": "markdown",
   "metadata": {},
   "source": [
    "## 24) Who is the youngest player to hit 50 or more HRs in a single season? (Dataframe)\n"
   ]
  },
  {
   "cell_type": "code",
   "execution_count": 82,
   "metadata": {
    "collapsed": false
   },
   "outputs": [
    {
     "data": {
      "text/html": [
       "<div>\n",
       "<style>\n",
       "    .dataframe thead tr:only-child th {\n",
       "        text-align: right;\n",
       "    }\n",
       "\n",
       "    .dataframe thead th {\n",
       "        text-align: left;\n",
       "    }\n",
       "\n",
       "    .dataframe tbody tr th {\n",
       "        vertical-align: top;\n",
       "    }\n",
       "</style>\n",
       "<table border=\"1\" class=\"dataframe\">\n",
       "  <thead>\n",
       "    <tr style=\"text-align: right;\">\n",
       "      <th></th>\n",
       "      <th>index</th>\n",
       "      <th>playerID</th>\n",
       "      <th>yearID</th>\n",
       "      <th>nameFirst</th>\n",
       "      <th>nameLast</th>\n",
       "      <th>HR</th>\n",
       "      <th>Age</th>\n",
       "    </tr>\n",
       "  </thead>\n",
       "  <tbody>\n",
       "    <tr>\n",
       "      <th>0</th>\n",
       "      <td>26282</td>\n",
       "      <td>fieldpr01</td>\n",
       "      <td>2007</td>\n",
       "      <td>Prince</td>\n",
       "      <td>Fielder</td>\n",
       "      <td>50</td>\n",
       "      <td>23</td>\n",
       "    </tr>\n",
       "  </tbody>\n",
       "</table>\n",
       "</div>"
      ],
      "text/plain": [
       "   index   playerID  yearID nameFirst nameLast  HR  Age\n",
       "0  26282  fieldpr01    2007    Prince  Fielder  50   23"
      ]
     },
     "execution_count": 82,
     "metadata": {},
     "output_type": "execute_result"
    }
   ],
   "source": [
    "Batting_Data=pd.read_csv('Batting.csv')\n",
    "Batting_Data['Age']=Batting_Data.yearID-Batting_Data.birthYear\n",
    "Batting_Data=Batting_Data.groupby(['playerID','yearID'],as_index=False).agg({\"nameFirst\":\"first\",\"nameLast\":\"first\",\"HR\":\"sum\",\"Age\":\"first\"})\n",
    "Batting_Data=Batting_Data[Batting_Data['HR']>=50]\n",
    "Batting_Data=Batting_Data.sort_values(by=['Age'], ascending=[True])\n",
    "Batting_Data.head(1).reset_index()"
   ]
  },
  {
   "cell_type": "markdown",
   "metadata": {},
   "source": [
    "## 25) Who are the five youngest players to hit 300 or more HRs for their career? (Dataframe)"
   ]
  },
  {
   "cell_type": "code",
   "execution_count": 83,
   "metadata": {
    "collapsed": false,
    "scrolled": true
   },
   "outputs": [
    {
     "data": {
      "text/html": [
       "<div>\n",
       "<style>\n",
       "    .dataframe thead tr:only-child th {\n",
       "        text-align: right;\n",
       "    }\n",
       "\n",
       "    .dataframe thead th {\n",
       "        text-align: left;\n",
       "    }\n",
       "\n",
       "    .dataframe tbody tr th {\n",
       "        vertical-align: top;\n",
       "    }\n",
       "</style>\n",
       "<table border=\"1\" class=\"dataframe\">\n",
       "  <thead>\n",
       "    <tr style=\"text-align: right;\">\n",
       "      <th></th>\n",
       "      <th>index</th>\n",
       "      <th>playerID</th>\n",
       "      <th>HR</th>\n",
       "      <th>CurrentAge</th>\n",
       "      <th>birthYear</th>\n",
       "    </tr>\n",
       "  </thead>\n",
       "  <tbody>\n",
       "    <tr>\n",
       "      <th>0</th>\n",
       "      <td>5287</td>\n",
       "      <td>fieldpr01</td>\n",
       "      <td>319</td>\n",
       "      <td>34</td>\n",
       "      <td>1984</td>\n",
       "    </tr>\n",
       "    <tr>\n",
       "      <th>1</th>\n",
       "      <td>4953</td>\n",
       "      <td>encared01</td>\n",
       "      <td>310</td>\n",
       "      <td>35</td>\n",
       "      <td>1983</td>\n",
       "    </tr>\n",
       "    <tr>\n",
       "      <th>2</th>\n",
       "      <td>2385</td>\n",
       "      <td>cabremi01</td>\n",
       "      <td>446</td>\n",
       "      <td>35</td>\n",
       "      <td>1983</td>\n",
       "    </tr>\n",
       "    <tr>\n",
       "      <th>3</th>\n",
       "      <td>6329</td>\n",
       "      <td>gonzaad01</td>\n",
       "      <td>308</td>\n",
       "      <td>36</td>\n",
       "      <td>1982</td>\n",
       "    </tr>\n",
       "    <tr>\n",
       "      <th>4</th>\n",
       "      <td>13782</td>\n",
       "      <td>pujolal01</td>\n",
       "      <td>591</td>\n",
       "      <td>38</td>\n",
       "      <td>1980</td>\n",
       "    </tr>\n",
       "  </tbody>\n",
       "</table>\n",
       "</div>"
      ],
      "text/plain": [
       "   index   playerID   HR  CurrentAge  birthYear\n",
       "0   5287  fieldpr01  319          34       1984\n",
       "1   4953  encared01  310          35       1983\n",
       "2   2385  cabremi01  446          35       1983\n",
       "3   6329  gonzaad01  308          36       1982\n",
       "4  13782  pujolal01  591          38       1980"
      ]
     },
     "execution_count": 83,
     "metadata": {},
     "output_type": "execute_result"
    }
   ],
   "source": [
    "import datetime\n",
    "Batting_Data = pd.read_csv(\"batting.csv\")\n",
    "Batting_Data['CurrentAge']=datetime.datetime.now().year-Batting_Data.birthYear\n",
    "Grouped_Data = Batting_Data.groupby([\"playerID\"],as_index=False).agg({\"HR\":\"sum\",\"CurrentAge\":'first',\"birthYear\":'first'})\n",
    "Filtered_Data = Grouped_Data.loc[Grouped_Data[\"HR\"]>=300]\n",
    "Filtered_Data = Filtered_Data.sort_values(by='CurrentAge',ascending=True).head(5)\n",
    "Filtered_Data.reset_index()"
   ]
  }
 ],
 "metadata": {
  "kernelspec": {
   "display_name": "Python 3",
   "language": "python",
   "name": "python3"
  },
  "language_info": {
   "codemirror_mode": {
    "name": "ipython",
    "version": 3
   },
   "file_extension": ".py",
   "mimetype": "text/x-python",
   "name": "python",
   "nbconvert_exporter": "python",
   "pygments_lexer": "ipython3",
   "version": "3.6.3"
  }
 },
 "nbformat": 4,
 "nbformat_minor": 2
}
